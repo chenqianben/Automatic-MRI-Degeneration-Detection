{
 "cells": [
  {
   "cell_type": "code",
   "execution_count": 1,
   "metadata": {
    "ExecuteTime": {
     "end_time": "2020-03-31T20:14:58.756347Z",
     "start_time": "2020-03-31T20:14:56.847445Z"
    }
   },
   "outputs": [],
   "source": [
    "import tensorflow as tf;\n",
    "import cv2;\n",
    "\n",
    "from registration_model import AffineLayer,SpatialTransformLayer"
   ]
  },
  {
   "cell_type": "markdown",
   "metadata": {},
   "source": [
    "# Spatial Transform Networks"
   ]
  },
  {
   "cell_type": "markdown",
   "metadata": {},
   "source": [
    "## 演示 AffineLayer"
   ]
  },
  {
   "cell_type": "markdown",
   "metadata": {},
   "source": [
    "cv2.getRotationMatrix2D(Point2f center, double angle, double scale)\n",
    "- Point2f center：表示旋转的中心点\n",
    "- double angle：表示旋转的角度\n",
    "- double scale：图像缩放因子"
   ]
  },
  {
   "cell_type": "code",
   "execution_count": 2,
   "metadata": {
    "ExecuteTime": {
     "end_time": "2020-03-31T20:13:48.445077Z",
     "start_time": "2020-03-31T20:13:45.895420Z"
    }
   },
   "outputs": [],
   "source": [
    "if __name__ == \"__main__\":\n",
    "    assert tf.executing_eagerly();\n",
    "    (train_x, train_y), (test_x, test_y) = tf.keras.datasets.mnist.load_data();\n",
    "    im = train_x[0,...];     # (28,28)\n",
    "    inputs = tf.expand_dims(tf.constant(im), axis = 0); # add batch  # (1,28,28)\n",
    "    inputs = tf.expand_dims(inputs, axis = -1); # add channel        # (1,28,28,1)\n",
    "    for angle in range(0,360,10):\n",
    "        affines = tf.expand_dims(tf.constant(cv2.getRotationMatrix2D((0,0), angle, 1), dtype = tf.float32), axis = 0);\n",
    "        outputs = tf.cast(AffineLayer()(inputs,affines),dtype = tf.uint8); # (1,28,28,1)  \n",
    "        \n",
    "        cv2.imshow(\"rotated\", outputs[0,...,0].numpy());\n",
    "        cv2.waitKey(50);  # 50毫秒 = 0.05s"
   ]
  },
  {
   "cell_type": "markdown",
   "metadata": {},
   "source": [
    "## 演示SPN"
   ]
  },
  {
   "cell_type": "code",
   "execution_count": 3,
   "metadata": {
    "ExecuteTime": {
     "end_time": "2020-03-31T20:15:09.877491Z",
     "start_time": "2020-03-31T20:15:09.638109Z"
    }
   },
   "outputs": [
    {
     "name": "stdout",
     "output_type": "stream",
     "text": [
      "(1, 28, 28, 1)\n"
     ]
    }
   ],
   "source": [
    "if __name__ == \"__main__\":\n",
    "    assert tf.executing_eagerly();\n",
    "    (train_x, train_y),(test_x, test_y) = tf.keras.datasets.mnist.load_data();\n",
    "    img = train_x[0,...];     # (28,28)\n",
    "    inputs = tf.expand_dims(tf.constant(img), axis = 0); # add batch # (1,28,28)\n",
    "    inputs = tf.expand_dims(inputs, axis = -1); # add channel        # (1,28,28,1)\n",
    "    st = SpatialTransformLayer();\n",
    "    outputs = tf.cast(st(inputs), dtype = tf.uint8);                 # (1,28,28,1)\n",
    "    \n",
    "    cv2.imshow('output',outputs[0,...,0].numpy());\n",
    "    cv2.waitKey(50);"
   ]
  },
  {
   "cell_type": "markdown",
   "metadata": {},
   "source": [
    "# Training SPN with our data"
   ]
  },
  {
   "cell_type": "code",
   "execution_count": null,
   "metadata": {},
   "outputs": [],
   "source": []
  }
 ],
 "metadata": {
  "kernelspec": {
   "display_name": "Python [conda env:tf2]",
   "language": "python",
   "name": "conda-env-tf2-py"
  },
  "language_info": {
   "codemirror_mode": {
    "name": "ipython",
    "version": 3
   },
   "file_extension": ".py",
   "mimetype": "text/x-python",
   "name": "python",
   "nbconvert_exporter": "python",
   "pygments_lexer": "ipython3",
   "version": "3.7.5"
  },
  "toc": {
   "base_numbering": 1,
   "nav_menu": {},
   "number_sections": true,
   "sideBar": true,
   "skip_h1_title": false,
   "title_cell": "Table of Contents",
   "title_sidebar": "Contents",
   "toc_cell": false,
   "toc_position": {},
   "toc_section_display": true,
   "toc_window_display": false
  }
 },
 "nbformat": 4,
 "nbformat_minor": 2
}
