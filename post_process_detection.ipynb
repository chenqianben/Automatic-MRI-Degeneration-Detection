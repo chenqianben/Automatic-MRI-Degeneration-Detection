{
 "cells": [
  {
   "cell_type": "code",
   "execution_count": 6,
   "metadata": {
    "ExecuteTime": {
     "end_time": "2020-03-30T13:31:37.246873Z",
     "start_time": "2020-03-30T13:31:37.240889Z"
    }
   },
   "outputs": [],
   "source": [
    "import pydicom\n",
    "import numpy as np\n",
    "\n",
    "# detection\n",
    "from detection_model import Net, num_classes\n",
    "from detection_machine import Detection\n",
    "\n",
    "# inmediate data process\n",
    "from utils import read_rois_data\n",
    "from utils import normalize, get_rois, plot_axis, read_data\n",
    "\n",
    "# hyperparameters\n",
    "from utils import input_size, img_height, img_width"
   ]
  },
  {
   "cell_type": "code",
   "execution_count": 7,
   "metadata": {
    "ExecuteTime": {
     "end_time": "2020-03-30T13:31:39.618938Z",
     "start_time": "2020-03-30T13:31:37.595370Z"
    }
   },
   "outputs": [],
   "source": [
    "root_path = 'D:\\课件\\ECN第二年DATASIM\\Projet\\projet mapping segmentation\\IRM_brut'\n",
    "ims_T1sag, ims_T1, ims_T2sag, ims_T2, ims_T2star, pos,_,_,_ = read_data(root_path, if_normalized=True)"
   ]
  },
  {
   "cell_type": "code",
   "execution_count": 8,
   "metadata": {
    "ExecuteTime": {
     "end_time": "2020-03-30T13:31:39.625919Z",
     "start_time": "2020-03-30T13:31:39.619935Z"
    }
   },
   "outputs": [],
   "source": [
    "inds = []\n",
    "infos = [\n",
    "    ('Brebis 7', 'J-7'),\n",
    "    ('Brebis 8', 'J-7'),\n",
    "    ('Brebis 9', 'J-7'),\n",
    "]\n",
    "\n",
    "for j,info in enumerate(infos):\n",
    "    for i,p in enumerate(pos):\n",
    "        is_find = False\n",
    "        if p.find(info[0]) is not -1 and p.find(info[1]) is not -1:\n",
    "            inds.append(i)\n",
    "            is_find = True\n",
    "            break\n",
    "    if is_find is False:\n",
    "        print(infos[j], 'not found!')  "
   ]
  },
  {
   "cell_type": "code",
   "execution_count": 11,
   "metadata": {
    "ExecuteTime": {
     "end_time": "2020-03-30T13:33:53.050467Z",
     "start_time": "2020-03-30T13:33:28.288822Z"
    },
    "scrolled": true
   },
   "outputs": [
    {
     "name": "stdout",
     "output_type": "stream",
     "text": [
      "================================================================================\n",
      "OPERATING\n",
      "================================================================================\n",
      "time consuming:  0:00:24.654422\n"
     ]
    }
   ],
   "source": [
    "# detection part\n",
    "net = Net(num_classes)\n",
    "net.load_weights(filepath=\"./detection_model_weights/save_model_weights_36x36.ckpt\")\n",
    "\n",
    "ims = ims_T1sag[inds]\n",
    "\n",
    "chosen_rate = 1 - 1e-1\n",
    "detection_machine = Detection(net, ims, input_size)\n",
    "detection_machine.operate(chosen_rate)"
   ]
  },
  {
   "cell_type": "code",
   "execution_count": 13,
   "metadata": {
    "ExecuteTime": {
     "end_time": "2020-03-30T13:33:57.165124Z",
     "start_time": "2020-03-30T13:33:57.122239Z"
    }
   },
   "outputs": [
    {
     "name": "stdout",
     "output_type": "stream",
     "text": [
      "================================================================================\n",
      "SAVING ROI\n",
      "================================================================================\n",
      "Rois figures saved to .\\intermediate_results successfully\n",
      "Rois axis npy file saved to .\\intermediate_results successfully\n"
     ]
    }
   ],
   "source": [
    "dir_rois = r'.\\intermediate_results'\n",
    "rois_ens = detection_machine.read_and_save_rois(dir_rois)\n",
    "rois_axis_ens = detection_machine.read_and_save_rois_axis(dir_rois)"
   ]
  },
  {
   "cell_type": "code",
   "execution_count": 14,
   "metadata": {
    "ExecuteTime": {
     "end_time": "2020-03-30T13:33:57.428847Z",
     "start_time": "2020-03-30T13:33:57.424858Z"
    }
   },
   "outputs": [
    {
     "name": "stdout",
     "output_type": "stream",
     "text": [
      "[58, 63, 68]\n"
     ]
    }
   ],
   "source": [
    "print(inds)"
   ]
  }
 ],
 "metadata": {
  "kernelspec": {
   "display_name": "Python [conda env:tf2]",
   "language": "python",
   "name": "conda-env-tf2-py"
  },
  "language_info": {
   "codemirror_mode": {
    "name": "ipython",
    "version": 3
   },
   "file_extension": ".py",
   "mimetype": "text/x-python",
   "name": "python",
   "nbconvert_exporter": "python",
   "pygments_lexer": "ipython3",
   "version": "3.7.5"
  },
  "toc": {
   "base_numbering": 1,
   "nav_menu": {},
   "number_sections": true,
   "sideBar": true,
   "skip_h1_title": false,
   "title_cell": "Table of Contents",
   "title_sidebar": "Contents",
   "toc_cell": false,
   "toc_position": {},
   "toc_section_display": true,
   "toc_window_display": false
  }
 },
 "nbformat": 4,
 "nbformat_minor": 2
}
